{
 "cells": [
  {
   "cell_type": "code",
   "execution_count": 16,
   "id": "d6173a5d",
   "metadata": {},
   "outputs": [],
   "source": [
    "import pandas as pd \n",
    "import numpy as np \n",
    "from sklearn.model_selection import train_test_split \n",
    "from sklearn.preprocessing import StandardScaler\n",
    "from sklearn.linear_model import Ridge\n",
    "from sklearn.model_selection import GridSearchCV\n",
    "from sklearn.metrics import confusion_matrix \n",
    "from sklearn.metrics import f1_score \n",
    "from sklearn.metrics import accuracy_score \n",
    "from sklearn.metrics import classification_report\n",
    "import matplotlib.pyplot as plt\n",
    "from sklearn.metrics import mean_absolute_error, mean_squared_error\n",
    "import math\n",
    "from sklearn.metrics import r2_score \n"
   ]
  },
  {
   "cell_type": "code",
   "execution_count": 17,
   "id": "cd462e20",
   "metadata": {},
   "outputs": [],
   "source": [
    "data = pd.read_csv(\"PL_PL_avg.csv\")"
   ]
  },
  {
   "cell_type": "code",
   "execution_count": 18,
   "id": "3aabd0f8",
   "metadata": {},
   "outputs": [],
   "source": [
    "#Defining algorithm and standardization method\n",
    "regressor = Ridge(alpha=0.1)\n",
    "scaler = StandardScaler()"
   ]
  },
  {
   "cell_type": "code",
   "execution_count": 19,
   "id": "9b1dd974",
   "metadata": {
    "scrolled": true
   },
   "outputs": [
    {
     "name": "stdout",
     "output_type": "stream",
     "text": [
      "DS10\n",
      "\u001b[1mActual is:\u001b[0m [[2.121226 1.836486]\n",
      " [2.121226 1.836486]]\n",
      "\u001b[1mPredicted is:\u001b[0m [[2.22039293 1.74211251]\n",
      " [2.14652364 1.74216009]]\n",
      "\u001b[1mRMSE is:\u001b[0m [0.07236729 0.0943497 ]\n",
      "0.07236729124819512\n",
      "0.09434970470926102\n"
     ]
    }
   ],
   "source": [
    "#testing MATERIAL A\n",
    "X_train = data.iloc[2:,3:].values\n",
    "Y_train = data.iloc[2:,1:3].values\n",
    "X_test = data.iloc[:2,3:].values\n",
    "Y_test = data.iloc[:2,1:3].values\n",
    "\n",
    "#scaling the data\n",
    "scaler.fit(X_train)\n",
    "X_train = scaler.transform(X_train)\n",
    "X_test = scaler.transform(X_test)\n",
    "\n",
    "#training the algorithm\n",
    "regressor.fit(X_train, Y_train) \n",
    "\n",
    "#predicting test set\n",
    "Y_pred = regressor.predict(X_test)\n",
    "\n",
    "print(data.iloc[1,0])\n",
    "print(\"\\033[1mActual is:\\033[0m\", Y_test)\n",
    "print (\"\\033[1mPredicted is:\\033[0m\", Y_pred)\n",
    "\n",
    "def rmse(y_true, y_pred):\n",
    "    # calculate mean squared error for each output\n",
    "    mse = mean_squared_error(y_true, y_pred, multioutput='raw_values')\n",
    "    # calculate RMSE for each output\n",
    "    rmse = np.sqrt(mse)\n",
    "    return rmse\n",
    "\n",
    "RMSE=rmse(Y_test, Y_pred)\n",
    "\n",
    "print(\"\\033[1mRMSE is:\\033[0m\", RMSE)\n",
    "print(RMSE[0])\n",
    "print(RMSE[1])"
   ]
  },
  {
   "cell_type": "code",
   "execution_count": 20,
   "id": "0490dab7",
   "metadata": {},
   "outputs": [
    {
     "name": "stdout",
     "output_type": "stream",
     "text": [
      "PD1\n",
      "\u001b[1mActual is:\u001b[0m [[2.833953 1.697086]\n",
      " [2.833953 1.697086]]\n",
      "\u001b[1mPredicted is:\u001b[0m [[2.94021745 1.93554885]\n",
      " [2.41175827 1.74404358]]\n",
      "\u001b[1mRMSE is:\u001b[0m [0.30784779 0.17185684]\n",
      "0.30784779006638163\n",
      "0.17185683736581162\n"
     ]
    }
   ],
   "source": [
    "#testing MATERIAL B\n",
    "X_train = data.iloc[list(range(0,2))+ list(range(4, len(data)))].iloc[:,3:].values\n",
    "Y_train = data.iloc[list(range(0,2)) +list(range(4, len(data)))].iloc[:,1:3].values\n",
    "X_test = data.iloc[2:4,3:].values\n",
    "Y_test = data.iloc[2:4,1:3].values\n",
    "\n",
    "#scaling the data\n",
    "scaler.fit(X_train)\n",
    "X_train = scaler.transform(X_train)\n",
    "X_test = scaler.transform(X_test)\n",
    "\n",
    "#training the algorithm\n",
    "regressor.fit(X_train, Y_train) \n",
    "\n",
    "#predicting test set\n",
    "Y_pred = regressor.predict(X_test)\n",
    "\n",
    "print(data.iloc[3,0])\n",
    "print(\"\\033[1mActual is:\\033[0m\", Y_test)\n",
    "print (\"\\033[1mPredicted is:\\033[0m\", Y_pred)\n",
    "\n",
    "def rmse(y_true, y_pred):\n",
    "    # calculate mean squared error for each output\n",
    "    mse = mean_squared_error(y_true, y_pred, multioutput='raw_values')\n",
    "    # calculate RMSE for each output\n",
    "    rmse = np.sqrt(mse)\n",
    "    return rmse\n",
    "\n",
    "RMSE=rmse(Y_test, Y_pred)\n",
    "\n",
    "print(\"\\033[1mRMSE is:\\033[0m\", RMSE)\n",
    "print(RMSE[0])\n",
    "print(RMSE[1])"
   ]
  },
  {
   "cell_type": "code",
   "execution_count": 21,
   "id": "0b5be4a1",
   "metadata": {},
   "outputs": [
    {
     "name": "stdout",
     "output_type": "stream",
     "text": [
      "PD05\n",
      "\u001b[1mActual is:\u001b[0m [[2.07411  1.569432]\n",
      " [2.07411  1.569432]]\n",
      "\u001b[1mPredicted is:\u001b[0m [[2.04527481 1.67597388]\n",
      " [1.61755931 1.51928448]]\n",
      "\u001b[1mRMSE is:\u001b[0m [0.32347334 0.08326447]\n",
      "0.32347333928295613\n",
      "0.08326447366978322\n"
     ]
    }
   ],
   "source": [
    "#testing MATERIAL C\n",
    "X_train = data.iloc[list(range(0,4))+ list(range(6, len(data)))].iloc[:,3:].values\n",
    "Y_train = data.iloc[list(range(0,4)) +list(range(6, len(data)))].iloc[:,1:3].values\n",
    "X_test = data.iloc[4:6,3:].values\n",
    "Y_test = data.iloc[4:6,1:3].values\n",
    "\n",
    "#scaling the data\n",
    "scaler.fit(X_train)\n",
    "X_train = scaler.transform(X_train)\n",
    "X_test = scaler.transform(X_test)\n",
    "\n",
    "#training the algorithm\n",
    "regressor.fit(X_train, Y_train) \n",
    "\n",
    "#predicting test set\n",
    "Y_pred = regressor.predict(X_test)\n",
    "\n",
    "print(data.iloc[5,0])\n",
    "print(\"\\033[1mActual is:\\033[0m\", Y_test)\n",
    "print (\"\\033[1mPredicted is:\\033[0m\", Y_pred)\n",
    "\n",
    "def rmse(y_true, y_pred):\n",
    "    # calculate mean squared error for each output\n",
    "    mse = mean_squared_error(y_true, y_pred, multioutput='raw_values')\n",
    "    # calculate RMSE for each output\n",
    "    rmse = np.sqrt(mse)\n",
    "    return rmse\n",
    "\n",
    "RMSE=rmse(Y_test, Y_pred)\n",
    "print(\"\\033[1mRMSE is:\\033[0m\", RMSE)\n",
    "print(RMSE[0])\n",
    "print(RMSE[1])"
   ]
  },
  {
   "cell_type": "code",
   "execution_count": 22,
   "id": "c0a98bde",
   "metadata": {},
   "outputs": [
    {
     "name": "stdout",
     "output_type": "stream",
     "text": [
      "DS30\n",
      "\u001b[1mActual is:\u001b[0m [[1.530849 1.578501]\n",
      " [1.530849 1.578501]]\n",
      "\u001b[1mPredicted is:\u001b[0m [[1.98874222 1.4910216 ]\n",
      " [2.14199125 1.51426405]]\n",
      "\u001b[1mRMSE is:\u001b[0m [0.53998196 0.07674318]\n",
      "0.5399819638277483\n",
      "0.07674317733437411\n"
     ]
    }
   ],
   "source": [
    "#testing MATERIAL D\n",
    "X_train = data.iloc[list(range(0,6))+ list(range(8, len(data)))].iloc[:,3:].values\n",
    "Y_train = data.iloc[list(range(0,6)) +list(range(8, len(data)))].iloc[:,1:3].values\n",
    "X_test = data.iloc[6:8,3:].values\n",
    "Y_test = data.iloc[6:8,1:3].values\n",
    "\n",
    "#scaling the data\n",
    "scaler.fit(X_train)\n",
    "X_train = scaler.transform(X_train)\n",
    "X_test = scaler.transform(X_test)\n",
    "\n",
    "#training the algorithm\n",
    "regressor.fit(X_train, Y_train) \n",
    "\n",
    "#predicting test set\n",
    "Y_pred = regressor.predict(X_test)\n",
    "\n",
    "print(data.iloc[7,0])\n",
    "print(\"\\033[1mActual is:\\033[0m\", Y_test)\n",
    "print (\"\\033[1mPredicted is:\\033[0m\", Y_pred)\n",
    "\n",
    "def rmse(y_true, y_pred):\n",
    "    # calculate mean squared error for each output\n",
    "    mse = mean_squared_error(y_true, y_pred, multioutput='raw_values')\n",
    "    # calculate RMSE for each output\n",
    "    rmse = np.sqrt(mse)\n",
    "    return rmse\n",
    "\n",
    "RMSE=rmse(Y_test, Y_pred)\n",
    "print(\"\\033[1mRMSE is:\\033[0m\", RMSE)\n",
    "print(RMSE[0])\n",
    "print(RMSE[1])"
   ]
  },
  {
   "cell_type": "code",
   "execution_count": 23,
   "id": "d683b5b5",
   "metadata": {},
   "outputs": [
    {
     "name": "stdout",
     "output_type": "stream",
     "text": [
      "EF50\n",
      "\u001b[1mActual is:\u001b[0m [[2.815642 1.966654]\n",
      " [2.815642 1.966654]]\n",
      "\u001b[1mPredicted is:\u001b[0m [[2.44304371 1.79512659]\n",
      " [2.92587752 1.94829619]]\n",
      "\u001b[1mRMSE is:\u001b[0m [0.27475567 0.12198086]\n",
      "0.2747556668452568\n",
      "0.12198085992359543\n"
     ]
    }
   ],
   "source": [
    "#testing MATERIAL E\n",
    "X_train = data.iloc[list(range(0,8))+ list(range(10, len(data)))].iloc[:,3:].values\n",
    "Y_train = data.iloc[list(range(0,8)) +list(range(10, len(data)))].iloc[:,1:3].values\n",
    "X_test = data.iloc[8:10,3:].values\n",
    "Y_test = data.iloc[8:10,1:3].values\n",
    "\n",
    "#scaling the data\n",
    "scaler.fit(X_train)\n",
    "X_train = scaler.transform(X_train)\n",
    "X_test = scaler.transform(X_test)\n",
    "\n",
    "#training the algorithm\n",
    "regressor.fit(X_train, Y_train) \n",
    "\n",
    "#predicting test set\n",
    "Y_pred = regressor.predict(X_test)\n",
    "\n",
    "print(data.iloc[9,0])\n",
    "print(\"\\033[1mActual is:\\033[0m\", Y_test)\n",
    "print (\"\\033[1mPredicted is:\\033[0m\", Y_pred)\n",
    "\n",
    "def rmse(y_true, y_pred):\n",
    "    # calculate mean squared error for each output\n",
    "    mse = mean_squared_error(y_true, y_pred, multioutput='raw_values')\n",
    "    # calculate RMSE for each output\n",
    "    rmse = np.sqrt(mse)\n",
    "    return rmse\n",
    "\n",
    "RMSE=rmse(Y_test, Y_pred)\n",
    "print(\"\\033[1mRMSE is:\\033[0m\", RMSE)\n",
    "print(RMSE[0])\n",
    "print(RMSE[1])"
   ]
  },
  {
   "cell_type": "code",
   "execution_count": 24,
   "id": "e1ce05a2",
   "metadata": {},
   "outputs": [
    {
     "name": "stdout",
     "output_type": "stream",
     "text": [
      "F\n",
      "\u001b[1mActual is:\u001b[0m [[0.680168 1.381599]\n",
      " [0.680168 1.381599]]\n",
      "\u001b[1mPredicted is:\u001b[0m [[0.50740466 1.62931099]\n",
      " [0.82912909 1.75333462]]\n",
      "\u001b[1mRMSE is:\u001b[0m [0.16130186 0.31587071]\n",
      "0.16130185541571077\n",
      "0.3158707057862248\n"
     ]
    }
   ],
   "source": [
    "#Testing Material F\n",
    "X_train = data.iloc[list(range(0,10))+ list(range(12, len(data)))].iloc[:,3:].values\n",
    "Y_train = data.iloc[list(range(0,10)) +list(range(12, len(data)))].iloc[:,1:3].values\n",
    "X_test = data.iloc[10:12,3:].values\n",
    "Y_test = data.iloc[10:12,1:3].values\n",
    "\n",
    "#scaling the data\n",
    "scaler.fit(X_train)\n",
    "X_train = scaler.transform(X_train)\n",
    "X_test = scaler.transform(X_test)\n",
    "\n",
    "#training the algorithm\n",
    "regressor.fit(X_train, Y_train) \n",
    "\n",
    "#predicting test set\n",
    "Y_pred = regressor.predict(X_test)\n",
    "\n",
    "print(data.iloc[11,0])\n",
    "print(\"\\033[1mActual is:\\033[0m\", Y_test)\n",
    "print (\"\\033[1mPredicted is:\\033[0m\", Y_pred)\n",
    "\n",
    "def rmse(y_true, y_pred):\n",
    "    # calculate mean squared error for each output\n",
    "    mse = mean_squared_error(y_true, y_pred, multioutput='raw_values')\n",
    "    # calculate RMSE for each output\n",
    "    rmse = np.sqrt(mse)\n",
    "    return rmse\n",
    "\n",
    "RMSE=rmse(Y_test, Y_pred)\n",
    "print(\"\\033[1mRMSE is:\\033[0m\", RMSE)\n",
    "print(RMSE[0])\n",
    "print(RMSE[1])"
   ]
  }
 ],
 "metadata": {
  "kernelspec": {
   "display_name": "Python 3 (ipykernel)",
   "language": "python",
   "name": "python3"
  },
  "language_info": {
   "codemirror_mode": {
    "name": "ipython",
    "version": 3
   },
   "file_extension": ".py",
   "mimetype": "text/x-python",
   "name": "python",
   "nbconvert_exporter": "python",
   "pygments_lexer": "ipython3",
   "version": "3.10.8"
  }
 },
 "nbformat": 4,
 "nbformat_minor": 5
}
