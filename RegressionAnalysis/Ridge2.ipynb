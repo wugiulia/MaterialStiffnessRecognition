{
 "cells": [
  {
   "cell_type": "code",
   "execution_count": 39,
   "id": "d6173a5d",
   "metadata": {},
   "outputs": [],
   "source": [
    "import pandas as pd \n",
    "import numpy as np \n",
    "from sklearn.model_selection import train_test_split \n",
    "from sklearn.preprocessing import StandardScaler\n",
    "from sklearn.linear_model import Ridge\n",
    "from sklearn.model_selection import GridSearchCV\n",
    "from sklearn.metrics import confusion_matrix \n",
    "from sklearn.metrics import f1_score \n",
    "from sklearn.metrics import accuracy_score \n",
    "from sklearn.metrics import classification_report\n",
    "import matplotlib.pyplot as plt\n",
    "from sklearn.metrics import mean_absolute_error, mean_squared_error\n",
    "import math\n",
    "from sklearn.metrics import r2_score \n",
    "#Hello"
   ]
  },
  {
   "cell_type": "code",
   "execution_count": 40,
   "id": "cd462e20",
   "metadata": {},
   "outputs": [],
   "source": [
    "data = pd.read_csv(\"PL_PL_noF.csv\")"
   ]
  },
  {
   "cell_type": "code",
   "execution_count": 41,
   "id": "3aabd0f8",
   "metadata": {},
   "outputs": [],
   "source": [
    "regressor = Ridge(alpha=0.1)\n",
    "scaler = StandardScaler()"
   ]
  },
  {
   "cell_type": "code",
   "execution_count": 42,
   "id": "9b1dd974",
   "metadata": {
    "scrolled": true
   },
   "outputs": [
    {
     "name": "stdout",
     "output_type": "stream",
     "text": [
      "DS10\n",
      "\u001b[1mActual is:\u001b[0m [[2.121226 1.836486]\n",
      " [2.121226 1.836486]]\n",
      "\u001b[1mPredicted is:\u001b[0m [[2.23789953 1.81546433]\n",
      " [2.24361905 1.86772857]]\n",
      "\u001b[1mRMSE is:\u001b[0m [0.11956749 0.02662714]\n",
      "0.1195674943174741\n",
      "0.026627138358879334\n"
     ]
    }
   ],
   "source": [
    "#testing 1st and 2nd\n",
    "X_train = data.iloc[2:,3:].values\n",
    "Y_train = data.iloc[2:,1:3].values\n",
    "X_test = data.iloc[:2,3:].values\n",
    "Y_test = data.iloc[:2,1:3].values\n",
    "\n",
    "scaler.fit(X_train)\n",
    "X_train = scaler.transform(X_train)\n",
    "X_test = scaler.transform(X_test)\n",
    "\n",
    "regressor.fit(X_train, Y_train) #training the algorithm\n",
    "\n",
    "Y_pred = regressor.predict(X_test)\n",
    "\n",
    "print(data.iloc[1,0])\n",
    "print(\"\\033[1mActual is:\\033[0m\", Y_test)\n",
    "print (\"\\033[1mPredicted is:\\033[0m\", Y_pred)\n",
    "\n",
    "def rmse(y_true, y_pred):\n",
    "    # calculate mean squared error for each output\n",
    "    mse = mean_squared_error(y_true, y_pred, multioutput='raw_values')\n",
    "    # calculate RMSE for each output\n",
    "    rmse = np.sqrt(mse)\n",
    "    return rmse\n",
    "\n",
    "RMSE=rmse(Y_test, Y_pred)\n",
    "\n",
    "print(\"\\033[1mRMSE is:\\033[0m\", RMSE)\n",
    "print(RMSE[0])\n",
    "print(RMSE[1])"
   ]
  },
  {
   "cell_type": "code",
   "execution_count": 43,
   "id": "0490dab7",
   "metadata": {},
   "outputs": [
    {
     "name": "stdout",
     "output_type": "stream",
     "text": [
      "PD1\n",
      "\u001b[1mActual is:\u001b[0m [[2.833953 1.697086]\n",
      " [2.833953 1.697086]]\n",
      "\u001b[1mPredicted is:\u001b[0m [[2.69491302 1.81596259]\n",
      " [2.25564165 1.66554389]]\n",
      "\u001b[1mRMSE is:\u001b[0m [0.42058063 0.08696709]\n",
      "0.4205806308005254\n",
      "0.08696709094449112\n"
     ]
    }
   ],
   "source": [
    "#Testing 3rd and 4th\n",
    "X_train = data.iloc[list(range(0,2))+ list(range(4, len(data)))].iloc[:,3:].values\n",
    "Y_train = data.iloc[list(range(0,2)) +list(range(4, len(data)))].iloc[:,1:3].values\n",
    "X_test = data.iloc[2:4,3:].values\n",
    "Y_test = data.iloc[2:4,1:3].values\n",
    "\n",
    "scaler.fit(X_train)\n",
    "X_train = scaler.transform(X_train)\n",
    "X_test = scaler.transform(X_test)\n",
    "\n",
    "regressor.fit(X_train, Y_train) #training the algorithm\n",
    "\n",
    "Y_pred = regressor.predict(X_test)\n",
    "\n",
    "print(data.iloc[3,0])\n",
    "print(\"\\033[1mActual is:\\033[0m\", Y_test)\n",
    "print (\"\\033[1mPredicted is:\\033[0m\", Y_pred)\n",
    "\n",
    "def rmse(y_true, y_pred):\n",
    "    # calculate mean squared error for each output\n",
    "    mse = mean_squared_error(y_true, y_pred, multioutput='raw_values')\n",
    "    # calculate RMSE for each output\n",
    "    rmse = np.sqrt(mse)\n",
    "    return rmse\n",
    "\n",
    "RMSE=rmse(Y_test, Y_pred)\n",
    "\n",
    "print(\"\\033[1mRMSE is:\\033[0m\", RMSE)\n",
    "print(RMSE[0])\n",
    "print(RMSE[1])"
   ]
  },
  {
   "cell_type": "code",
   "execution_count": 44,
   "id": "0b5be4a1",
   "metadata": {},
   "outputs": [
    {
     "name": "stdout",
     "output_type": "stream",
     "text": [
      "PD05\n",
      "\u001b[1mActual is:\u001b[0m [[2.07411  1.569432]\n",
      " [2.07411  1.569432]]\n",
      "\u001b[1mPredicted is:\u001b[0m [[1.97982668 1.71453842]\n",
      " [1.58022652 1.60063431]]\n",
      "\u001b[1mRMSE is:\u001b[0m [0.35553498 0.10495108]\n",
      "0.3555349781315747\n",
      "0.10495107926869646\n"
     ]
    }
   ],
   "source": [
    "#testing 5th and 6th\n",
    "X_train = data.iloc[list(range(0,4))+ list(range(6, len(data)))].iloc[:,3:].values\n",
    "Y_train = data.iloc[list(range(0,4)) +list(range(6, len(data)))].iloc[:,1:3].values\n",
    "X_test = data.iloc[4:6,3:].values\n",
    "Y_test = data.iloc[4:6,1:3].values\n",
    "\n",
    "scaler.fit(X_train)\n",
    "X_train = scaler.transform(X_train)\n",
    "X_test = scaler.transform(X_test)\n",
    " \n",
    "regressor.fit(X_train, Y_train) #training the algorithm\n",
    "\n",
    "Y_pred = regressor.predict(X_test)\n",
    "\n",
    "print(data.iloc[5,0])\n",
    "print(\"\\033[1mActual is:\\033[0m\", Y_test)\n",
    "print (\"\\033[1mPredicted is:\\033[0m\", Y_pred)\n",
    "\n",
    "def rmse(y_true, y_pred):\n",
    "    # calculate mean squared error for each output\n",
    "    mse = mean_squared_error(y_true, y_pred, multioutput='raw_values')\n",
    "    # calculate RMSE for each output\n",
    "    rmse = np.sqrt(mse)\n",
    "    return rmse\n",
    "\n",
    "RMSE=rmse(Y_test, Y_pred)\n",
    "print(\"\\033[1mRMSE is:\\033[0m\", RMSE)\n",
    "print(RMSE[0])\n",
    "print(RMSE[1])"
   ]
  },
  {
   "cell_type": "code",
   "execution_count": 45,
   "id": "c0a98bde",
   "metadata": {},
   "outputs": [
    {
     "name": "stdout",
     "output_type": "stream",
     "text": [
      "DS30\n",
      "\u001b[1mActual is:\u001b[0m [[1.530849 1.578501]\n",
      " [1.530849 1.578501]]\n",
      "\u001b[1mPredicted is:\u001b[0m [[2.00238365 1.52538469]\n",
      " [2.18235729 1.55500323]]\n",
      "\u001b[1mRMSE is:\u001b[0m [0.5686862  0.04106999]\n",
      "0.5686861956390219\n",
      "0.041069990429150376\n"
     ]
    }
   ],
   "source": [
    "#Testing 7th and 8th\n",
    "X_train = data.iloc[list(range(0,6))+ list(range(8, len(data)))].iloc[:,3:].values\n",
    "Y_train = data.iloc[list(range(0,6)) +list(range(8, len(data)))].iloc[:,1:3].values\n",
    "X_test = data.iloc[6:8,3:].values\n",
    "Y_test = data.iloc[6:8,1:3].values\n",
    "\n",
    "scaler.fit(X_train)\n",
    "X_train = scaler.transform(X_train)\n",
    "X_test = scaler.transform(X_test)\n",
    "\n",
    "regressor.fit(X_train, Y_train) #training the algorithm\n",
    "\n",
    "Y_pred = regressor.predict(X_test)\n",
    "\n",
    "print(data.iloc[7,0])\n",
    "print(\"\\033[1mActual is:\\033[0m\", Y_test)\n",
    "print (\"\\033[1mPredicted is:\\033[0m\", Y_pred)\n",
    "\n",
    "def rmse(y_true, y_pred):\n",
    "    # calculate mean squared error for each output\n",
    "    mse = mean_squared_error(y_true, y_pred, multioutput='raw_values')\n",
    "    # calculate RMSE for each output\n",
    "    rmse = np.sqrt(mse)\n",
    "    return rmse\n",
    "\n",
    "RMSE=rmse(Y_test, Y_pred)\n",
    "print(\"\\033[1mRMSE is:\\033[0m\", RMSE)\n",
    "print(RMSE[0])\n",
    "print(RMSE[1])"
   ]
  },
  {
   "cell_type": "code",
   "execution_count": 46,
   "id": "d683b5b5",
   "metadata": {},
   "outputs": [
    {
     "name": "stdout",
     "output_type": "stream",
     "text": [
      "EF50\n",
      "\u001b[1mActual is:\u001b[0m [[2.815642 1.966654]\n",
      " [2.815642 1.966654]]\n",
      "\u001b[1mPredicted is:\u001b[0m [[2.44610671 1.80584328]\n",
      " [3.08266454 1.96362544]]\n",
      "\u001b[1mRMSE is:\u001b[0m [0.32237972 0.11373051]\n",
      "0.32237972079229715\n",
      "0.11373051415604783\n"
     ]
    }
   ],
   "source": [
    "#Testing 9th and 10th\n",
    "X_train = data.iloc[list(range(0,8))+ list(range(10, len(data)))].iloc[:,3:].values\n",
    "Y_train = data.iloc[list(range(0,8)) +list(range(10, len(data)))].iloc[:,1:3].values\n",
    "X_test = data.iloc[8:10,3:].values\n",
    "Y_test = data.iloc[8:10,1:3].values\n",
    "\n",
    "scaler.fit(X_train)\n",
    "X_train = scaler.transform(X_train)\n",
    "X_test = scaler.transform(X_test)\n",
    "\n",
    "regressor.fit(X_train, Y_train) #training the algorithm\n",
    "\n",
    "Y_pred = regressor.predict(X_test)\n",
    "\n",
    "print(data.iloc[9,0])\n",
    "print(\"\\033[1mActual is:\\033[0m\", Y_test)\n",
    "print (\"\\033[1mPredicted is:\\033[0m\", Y_pred)\n",
    "\n",
    "def rmse(y_true, y_pred):\n",
    "    # calculate mean squared error for each output\n",
    "    mse = mean_squared_error(y_true, y_pred, multioutput='raw_values')\n",
    "    # calculate RMSE for each output\n",
    "    rmse = np.sqrt(mse)\n",
    "    return rmse\n",
    "\n",
    "RMSE=rmse(Y_test, Y_pred)\n",
    "print(\"\\033[1mRMSE is:\\033[0m\", RMSE)\n",
    "print(RMSE[0])\n",
    "print(RMSE[1])"
   ]
  },
  {
   "cell_type": "code",
   "execution_count": 47,
   "id": "e1ce05a2",
   "metadata": {},
   "outputs": [
    {
     "ename": "ValueError",
     "evalue": "Found array with 0 sample(s) (shape=(0, 3)) while a minimum of 1 is required by StandardScaler.",
     "output_type": "error",
     "traceback": [
      "\u001b[0;31m---------------------------------------------------------------------------\u001b[0m",
      "\u001b[0;31mValueError\u001b[0m                                Traceback (most recent call last)",
      "Cell \u001b[0;32mIn [47], line 9\u001b[0m\n\u001b[1;32m      7\u001b[0m scaler\u001b[38;5;241m.\u001b[39mfit(X_train)\n\u001b[1;32m      8\u001b[0m X_train \u001b[38;5;241m=\u001b[39m scaler\u001b[38;5;241m.\u001b[39mtransform(X_train)\n\u001b[0;32m----> 9\u001b[0m X_test \u001b[38;5;241m=\u001b[39m \u001b[43mscaler\u001b[49m\u001b[38;5;241;43m.\u001b[39;49m\u001b[43mtransform\u001b[49m\u001b[43m(\u001b[49m\u001b[43mX_test\u001b[49m\u001b[43m)\u001b[49m\n\u001b[1;32m     11\u001b[0m regressor\u001b[38;5;241m.\u001b[39mfit(X_train, Y_train) \u001b[38;5;66;03m#training the algorithm\u001b[39;00m\n\u001b[1;32m     13\u001b[0m Y_pred \u001b[38;5;241m=\u001b[39m regressor\u001b[38;5;241m.\u001b[39mpredict(X_test)\n",
      "File \u001b[0;32m/Library/Frameworks/Python.framework/Versions/3.10/lib/python3.10/site-packages/sklearn/utils/_set_output.py:142\u001b[0m, in \u001b[0;36m_wrap_method_output.<locals>.wrapped\u001b[0;34m(self, X, *args, **kwargs)\u001b[0m\n\u001b[1;32m    140\u001b[0m \u001b[38;5;129m@wraps\u001b[39m(f)\n\u001b[1;32m    141\u001b[0m \u001b[38;5;28;01mdef\u001b[39;00m \u001b[38;5;21mwrapped\u001b[39m(\u001b[38;5;28mself\u001b[39m, X, \u001b[38;5;241m*\u001b[39margs, \u001b[38;5;241m*\u001b[39m\u001b[38;5;241m*\u001b[39mkwargs):\n\u001b[0;32m--> 142\u001b[0m     data_to_wrap \u001b[38;5;241m=\u001b[39m \u001b[43mf\u001b[49m\u001b[43m(\u001b[49m\u001b[38;5;28;43mself\u001b[39;49m\u001b[43m,\u001b[49m\u001b[43m \u001b[49m\u001b[43mX\u001b[49m\u001b[43m,\u001b[49m\u001b[43m \u001b[49m\u001b[38;5;241;43m*\u001b[39;49m\u001b[43margs\u001b[49m\u001b[43m,\u001b[49m\u001b[43m \u001b[49m\u001b[38;5;241;43m*\u001b[39;49m\u001b[38;5;241;43m*\u001b[39;49m\u001b[43mkwargs\u001b[49m\u001b[43m)\u001b[49m\n\u001b[1;32m    143\u001b[0m     \u001b[38;5;28;01mif\u001b[39;00m \u001b[38;5;28misinstance\u001b[39m(data_to_wrap, \u001b[38;5;28mtuple\u001b[39m):\n\u001b[1;32m    144\u001b[0m         \u001b[38;5;66;03m# only wrap the first output for cross decomposition\u001b[39;00m\n\u001b[1;32m    145\u001b[0m         \u001b[38;5;28;01mreturn\u001b[39;00m (\n\u001b[1;32m    146\u001b[0m             _wrap_data_with_container(method, data_to_wrap[\u001b[38;5;241m0\u001b[39m], X, \u001b[38;5;28mself\u001b[39m),\n\u001b[1;32m    147\u001b[0m             \u001b[38;5;241m*\u001b[39mdata_to_wrap[\u001b[38;5;241m1\u001b[39m:],\n\u001b[1;32m    148\u001b[0m         )\n",
      "File \u001b[0;32m/Library/Frameworks/Python.framework/Versions/3.10/lib/python3.10/site-packages/sklearn/preprocessing/_data.py:992\u001b[0m, in \u001b[0;36mStandardScaler.transform\u001b[0;34m(self, X, copy)\u001b[0m\n\u001b[1;32m    989\u001b[0m check_is_fitted(\u001b[38;5;28mself\u001b[39m)\n\u001b[1;32m    991\u001b[0m copy \u001b[38;5;241m=\u001b[39m copy \u001b[38;5;28;01mif\u001b[39;00m copy \u001b[38;5;129;01mis\u001b[39;00m \u001b[38;5;129;01mnot\u001b[39;00m \u001b[38;5;28;01mNone\u001b[39;00m \u001b[38;5;28;01melse\u001b[39;00m \u001b[38;5;28mself\u001b[39m\u001b[38;5;241m.\u001b[39mcopy\n\u001b[0;32m--> 992\u001b[0m X \u001b[38;5;241m=\u001b[39m \u001b[38;5;28;43mself\u001b[39;49m\u001b[38;5;241;43m.\u001b[39;49m\u001b[43m_validate_data\u001b[49m\u001b[43m(\u001b[49m\n\u001b[1;32m    993\u001b[0m \u001b[43m    \u001b[49m\u001b[43mX\u001b[49m\u001b[43m,\u001b[49m\n\u001b[1;32m    994\u001b[0m \u001b[43m    \u001b[49m\u001b[43mreset\u001b[49m\u001b[38;5;241;43m=\u001b[39;49m\u001b[38;5;28;43;01mFalse\u001b[39;49;00m\u001b[43m,\u001b[49m\n\u001b[1;32m    995\u001b[0m \u001b[43m    \u001b[49m\u001b[43maccept_sparse\u001b[49m\u001b[38;5;241;43m=\u001b[39;49m\u001b[38;5;124;43m\"\u001b[39;49m\u001b[38;5;124;43mcsr\u001b[39;49m\u001b[38;5;124;43m\"\u001b[39;49m\u001b[43m,\u001b[49m\n\u001b[1;32m    996\u001b[0m \u001b[43m    \u001b[49m\u001b[43mcopy\u001b[49m\u001b[38;5;241;43m=\u001b[39;49m\u001b[43mcopy\u001b[49m\u001b[43m,\u001b[49m\n\u001b[1;32m    997\u001b[0m \u001b[43m    \u001b[49m\u001b[43mdtype\u001b[49m\u001b[38;5;241;43m=\u001b[39;49m\u001b[43mFLOAT_DTYPES\u001b[49m\u001b[43m,\u001b[49m\n\u001b[1;32m    998\u001b[0m \u001b[43m    \u001b[49m\u001b[43mforce_all_finite\u001b[49m\u001b[38;5;241;43m=\u001b[39;49m\u001b[38;5;124;43m\"\u001b[39;49m\u001b[38;5;124;43mallow-nan\u001b[39;49m\u001b[38;5;124;43m\"\u001b[39;49m\u001b[43m,\u001b[49m\n\u001b[1;32m    999\u001b[0m \u001b[43m\u001b[49m\u001b[43m)\u001b[49m\n\u001b[1;32m   1001\u001b[0m \u001b[38;5;28;01mif\u001b[39;00m sparse\u001b[38;5;241m.\u001b[39missparse(X):\n\u001b[1;32m   1002\u001b[0m     \u001b[38;5;28;01mif\u001b[39;00m \u001b[38;5;28mself\u001b[39m\u001b[38;5;241m.\u001b[39mwith_mean:\n",
      "File \u001b[0;32m/Library/Frameworks/Python.framework/Versions/3.10/lib/python3.10/site-packages/sklearn/base.py:535\u001b[0m, in \u001b[0;36mBaseEstimator._validate_data\u001b[0;34m(self, X, y, reset, validate_separately, **check_params)\u001b[0m\n\u001b[1;32m    533\u001b[0m     \u001b[38;5;28;01mraise\u001b[39;00m \u001b[38;5;167;01mValueError\u001b[39;00m(\u001b[38;5;124m\"\u001b[39m\u001b[38;5;124mValidation should be done on X, y or both.\u001b[39m\u001b[38;5;124m\"\u001b[39m)\n\u001b[1;32m    534\u001b[0m \u001b[38;5;28;01melif\u001b[39;00m \u001b[38;5;129;01mnot\u001b[39;00m no_val_X \u001b[38;5;129;01mand\u001b[39;00m no_val_y:\n\u001b[0;32m--> 535\u001b[0m     X \u001b[38;5;241m=\u001b[39m \u001b[43mcheck_array\u001b[49m\u001b[43m(\u001b[49m\u001b[43mX\u001b[49m\u001b[43m,\u001b[49m\u001b[43m \u001b[49m\u001b[43minput_name\u001b[49m\u001b[38;5;241;43m=\u001b[39;49m\u001b[38;5;124;43m\"\u001b[39;49m\u001b[38;5;124;43mX\u001b[39;49m\u001b[38;5;124;43m\"\u001b[39;49m\u001b[43m,\u001b[49m\u001b[43m \u001b[49m\u001b[38;5;241;43m*\u001b[39;49m\u001b[38;5;241;43m*\u001b[39;49m\u001b[43mcheck_params\u001b[49m\u001b[43m)\u001b[49m\n\u001b[1;32m    536\u001b[0m     out \u001b[38;5;241m=\u001b[39m X\n\u001b[1;32m    537\u001b[0m \u001b[38;5;28;01melif\u001b[39;00m no_val_X \u001b[38;5;129;01mand\u001b[39;00m \u001b[38;5;129;01mnot\u001b[39;00m no_val_y:\n",
      "File \u001b[0;32m/Library/Frameworks/Python.framework/Versions/3.10/lib/python3.10/site-packages/sklearn/utils/validation.py:929\u001b[0m, in \u001b[0;36mcheck_array\u001b[0;34m(array, accept_sparse, accept_large_sparse, dtype, order, copy, force_all_finite, ensure_2d, allow_nd, ensure_min_samples, ensure_min_features, estimator, input_name)\u001b[0m\n\u001b[1;32m    927\u001b[0m     n_samples \u001b[38;5;241m=\u001b[39m _num_samples(array)\n\u001b[1;32m    928\u001b[0m     \u001b[38;5;28;01mif\u001b[39;00m n_samples \u001b[38;5;241m<\u001b[39m ensure_min_samples:\n\u001b[0;32m--> 929\u001b[0m         \u001b[38;5;28;01mraise\u001b[39;00m \u001b[38;5;167;01mValueError\u001b[39;00m(\n\u001b[1;32m    930\u001b[0m             \u001b[38;5;124m\"\u001b[39m\u001b[38;5;124mFound array with \u001b[39m\u001b[38;5;132;01m%d\u001b[39;00m\u001b[38;5;124m sample(s) (shape=\u001b[39m\u001b[38;5;132;01m%s\u001b[39;00m\u001b[38;5;124m) while a\u001b[39m\u001b[38;5;124m\"\u001b[39m\n\u001b[1;32m    931\u001b[0m             \u001b[38;5;124m\"\u001b[39m\u001b[38;5;124m minimum of \u001b[39m\u001b[38;5;132;01m%d\u001b[39;00m\u001b[38;5;124m is required\u001b[39m\u001b[38;5;132;01m%s\u001b[39;00m\u001b[38;5;124m.\u001b[39m\u001b[38;5;124m\"\u001b[39m\n\u001b[1;32m    932\u001b[0m             \u001b[38;5;241m%\u001b[39m (n_samples, array\u001b[38;5;241m.\u001b[39mshape, ensure_min_samples, context)\n\u001b[1;32m    933\u001b[0m         )\n\u001b[1;32m    935\u001b[0m \u001b[38;5;28;01mif\u001b[39;00m ensure_min_features \u001b[38;5;241m>\u001b[39m \u001b[38;5;241m0\u001b[39m \u001b[38;5;129;01mand\u001b[39;00m array\u001b[38;5;241m.\u001b[39mndim \u001b[38;5;241m==\u001b[39m \u001b[38;5;241m2\u001b[39m:\n\u001b[1;32m    936\u001b[0m     n_features \u001b[38;5;241m=\u001b[39m array\u001b[38;5;241m.\u001b[39mshape[\u001b[38;5;241m1\u001b[39m]\n",
      "\u001b[0;31mValueError\u001b[0m: Found array with 0 sample(s) (shape=(0, 3)) while a minimum of 1 is required by StandardScaler."
     ]
    }
   ],
   "source": [
    "#Testing 11th and 12th\n",
    "X_train = data.iloc[list(range(0,10))+ list(range(12, len(data)))].iloc[:,3:].values\n",
    "Y_train = data.iloc[list(range(0,10)) +list(range(12, len(data)))].iloc[:,1:3].values\n",
    "X_test = data.iloc[10:12,3:].values\n",
    "Y_test = data.iloc[10:12,1:3].values\n",
    "\n",
    "scaler.fit(X_train)\n",
    "X_train = scaler.transform(X_train)\n",
    "X_test = scaler.transform(X_test)\n",
    " \n",
    "regressor.fit(X_train, Y_train) #training the algorithm\n",
    "\n",
    "Y_pred = regressor.predict(X_test)\n",
    "print(data.iloc[11,0])\n",
    "print(\"\\033[1mActual is:\\033[0m\", Y_test)\n",
    "print (\"\\033[1mPredicted is:\\033[0m\", Y_pred)\n",
    "\n",
    "def rmse(y_true, y_pred):\n",
    "    # calculate mean squared error for each output\n",
    "    mse = mean_squared_error(y_true, y_pred, multioutput='raw_values')\n",
    "    # calculate RMSE for each output\n",
    "    rmse = np.sqrt(mse)\n",
    "    return rmse\n",
    "\n",
    "RMSE=rmse(Y_test, Y_pred)\n",
    "print(\"\\033[1mRMSE is:\\033[0m\", RMSE)\n",
    "print(RMSE[0])\n",
    "print(RMSE[1])"
   ]
  },
  {
   "cell_type": "code",
   "execution_count": null,
   "id": "0e939dd8",
   "metadata": {},
   "outputs": [],
   "source": []
  },
  {
   "cell_type": "code",
   "execution_count": null,
   "id": "7c4b9dae",
   "metadata": {},
   "outputs": [],
   "source": []
  },
  {
   "cell_type": "code",
   "execution_count": null,
   "id": "658bb129",
   "metadata": {},
   "outputs": [],
   "source": []
  },
  {
   "cell_type": "code",
   "execution_count": null,
   "id": "cb75acc2",
   "metadata": {},
   "outputs": [],
   "source": []
  }
 ],
 "metadata": {
  "kernelspec": {
   "display_name": "Python 3 (ipykernel)",
   "language": "python",
   "name": "python3"
  },
  "language_info": {
   "codemirror_mode": {
    "name": "ipython",
    "version": 3
   },
   "file_extension": ".py",
   "mimetype": "text/x-python",
   "name": "python",
   "nbconvert_exporter": "python",
   "pygments_lexer": "ipython3",
   "version": "3.10.8"
  }
 },
 "nbformat": 4,
 "nbformat_minor": 5
}
