{
 "cells": [
  {
   "cell_type": "code",
   "execution_count": 12,
   "id": "d6173a5d",
   "metadata": {},
   "outputs": [],
   "source": [
    "import pandas as pd \n",
    "import numpy as np \n",
    "from sklearn.model_selection import train_test_split \n",
    "from sklearn.preprocessing import StandardScaler\n",
    "from sklearn.linear_model import LinearRegression\n",
    "from sklearn.model_selection import GridSearchCV\n",
    "from sklearn.metrics import confusion_matrix \n",
    "from sklearn.metrics import f1_score \n",
    "from sklearn.metrics import accuracy_score \n",
    "from sklearn.metrics import classification_report\n",
    "import matplotlib.pyplot as plt\n",
    "from sklearn.metrics import mean_absolute_error, mean_squared_error\n",
    "import math\n",
    "from sklearn.metrics import r2_score "
   ]
  },
  {
   "cell_type": "code",
   "execution_count": 13,
   "id": "cd462e20",
   "metadata": {},
   "outputs": [],
   "source": [
    "data = pd.read_csv(\"PL_PL_avg.csv\")"
   ]
  },
  {
   "cell_type": "code",
   "execution_count": 14,
   "id": "3aabd0f8",
   "metadata": {},
   "outputs": [],
   "source": [
    "#Defining algorithm and standardization method\n",
    "regressor = LinearRegression()\n",
    "scaler = StandardScaler()"
   ]
  },
  {
   "cell_type": "code",
   "execution_count": 15,
   "id": "9b1dd974",
   "metadata": {},
   "outputs": [
    {
     "name": "stdout",
     "output_type": "stream",
     "text": [
      "DS10\n",
      "\u001b[1mActual is:\u001b[0m [[2.121226 1.836486]\n",
      " [2.121226 1.836486]]\n",
      "\u001b[1mPredicted is:\u001b[0m [[2.21979917 1.74247713]\n",
      " [2.14445377 1.74303106]]\n",
      "\u001b[1mRMSE is:\u001b[0m [0.07161075 0.09373232]\n",
      "0.07161075313290835\n",
      "0.09373231556702465\n"
     ]
    }
   ],
   "source": [
    "#testing MATERIAL A\n",
    "X_train = data.iloc[2:,3:].values\n",
    "Y_train = data.iloc[2:,1:3].values\n",
    "X_test = data.iloc[:2,3:].values\n",
    "Y_test = data.iloc[:2,1:3].values\n",
    "\n",
    "scaler.fit(X_train)\n",
    "X_train = scaler.transform(X_train)\n",
    "X_test = scaler.transform(X_test)\n",
    "\n",
    "regressor.fit(X_train, Y_train) #training the algorithm\n",
    "\n",
    "Y_pred = regressor.predict(X_test)\n",
    "\n",
    "print(data.iloc[1,0])\n",
    "print(\"\\033[1mActual is:\\033[0m\", Y_test)\n",
    "print (\"\\033[1mPredicted is:\\033[0m\", Y_pred)\n",
    "\n",
    "def rmse(y_true, y_pred):\n",
    "    # calculate mean squared error for each output\n",
    "    mse = mean_squared_error(y_true, y_pred, multioutput='raw_values')\n",
    "    # calculate RMSE for each output\n",
    "    rmse = np.sqrt(mse)\n",
    "    return rmse\n",
    "\n",
    "RMSE=rmse(Y_test, Y_pred)\n",
    "\n",
    "print(\"\\033[1mRMSE is:\\033[0m\", RMSE)\n",
    "print(RMSE[0])\n",
    "print(RMSE[1])"
   ]
  },
  {
   "cell_type": "code",
   "execution_count": 16,
   "id": "0490dab7",
   "metadata": {},
   "outputs": [
    {
     "name": "stdout",
     "output_type": "stream",
     "text": [
      "PD1\n",
      "\u001b[1mActual is:\u001b[0m [[2.833953 1.697086]\n",
      " [2.833953 1.697086]]\n",
      "\u001b[1mPredicted is:\u001b[0m [[2.95838017 1.93909609]\n",
      " [2.42719819 1.74675556]]\n",
      "\u001b[1mRMSE is:\u001b[0m [0.30077532 0.17469394]\n",
      "0.3007753238648174\n",
      "0.17469394221970022\n"
     ]
    }
   ],
   "source": [
    "#Testing Material B\n",
    "X_train = data.iloc[list(range(0,2))+ list(range(4, len(data)))].iloc[:,3:].values\n",
    "Y_train = data.iloc[list(range(0,2)) +list(range(4, len(data)))].iloc[:,1:3].values\n",
    "X_test = data.iloc[2:4,3:].values\n",
    "Y_test = data.iloc[2:4,1:3].values\n",
    "\n",
    "scaler.fit(X_train)\n",
    "X_train = scaler.transform(X_train)\n",
    "X_test = scaler.transform(X_test)\n",
    "\n",
    "regressor.fit(X_train, Y_train) #training the algorithm\n",
    "\n",
    "Y_pred = regressor.predict(X_test)\n",
    "\n",
    "print(data.iloc[3,0])\n",
    "print(\"\\033[1mActual is:\\033[0m\", Y_test)\n",
    "print (\"\\033[1mPredicted is:\\033[0m\", Y_pred)\n",
    "\n",
    "def rmse(y_true, y_pred):\n",
    "    # calculate mean squared error for each output\n",
    "    mse = mean_squared_error(y_true, y_pred, multioutput='raw_values')\n",
    "    # calculate RMSE for each output\n",
    "    rmse = np.sqrt(mse)\n",
    "    return rmse\n",
    "\n",
    "RMSE=rmse(Y_test, Y_pred)\n",
    "\n",
    "print(\"\\033[1mRMSE is:\\033[0m\", RMSE)\n",
    "print(RMSE[0])\n",
    "print(RMSE[1])"
   ]
  },
  {
   "cell_type": "code",
   "execution_count": 17,
   "id": "0b5be4a1",
   "metadata": {},
   "outputs": [
    {
     "name": "stdout",
     "output_type": "stream",
     "text": [
      "PD05\n",
      "\u001b[1mActual is:\u001b[0m [[2.07411  1.569432]\n",
      " [2.07411  1.569432]]\n",
      "\u001b[1mPredicted is:\u001b[0m [[2.04715795 1.67574823]\n",
      " [1.6177918  1.51844801]]\n",
      "\u001b[1mRMSE is:\u001b[0m [0.32322802 0.08337418]\n",
      "0.3232280249457608\n",
      "0.08337418359027379\n"
     ]
    }
   ],
   "source": [
    "#testing Material C\n",
    "X_train = data.iloc[list(range(0,4))+ list(range(6, len(data)))].iloc[:,3:].values\n",
    "Y_train = data.iloc[list(range(0,4)) +list(range(6, len(data)))].iloc[:,1:3].values\n",
    "X_test = data.iloc[4:6,3:].values\n",
    "Y_test = data.iloc[4:6,1:3].values\n",
    "\n",
    "scaler.fit(X_train)\n",
    "X_train = scaler.transform(X_train)\n",
    "X_test = scaler.transform(X_test)\n",
    " \n",
    "regressor.fit(X_train, Y_train) #training the algorithm\n",
    "\n",
    "Y_pred = regressor.predict(X_test)\n",
    "\n",
    "print(data.iloc[5,0])\n",
    "print(\"\\033[1mActual is:\\033[0m\", Y_test)\n",
    "print (\"\\033[1mPredicted is:\\033[0m\", Y_pred)\n",
    "\n",
    "def rmse(y_true, y_pred):\n",
    "    # calculate mean squared error for each output\n",
    "    mse = mean_squared_error(y_true, y_pred, multioutput='raw_values')\n",
    "    # calculate RMSE for each output\n",
    "    rmse = np.sqrt(mse)\n",
    "    return rmse\n",
    "\n",
    "RMSE=rmse(Y_test, Y_pred)\n",
    "print(\"\\033[1mRMSE is:\\033[0m\", RMSE)\n",
    "print(RMSE[0])\n",
    "print(RMSE[1])"
   ]
  },
  {
   "cell_type": "code",
   "execution_count": 18,
   "id": "c0a98bde",
   "metadata": {},
   "outputs": [
    {
     "name": "stdout",
     "output_type": "stream",
     "text": [
      "DS30\n",
      "\u001b[1mActual is:\u001b[0m [[1.530849 1.578501]\n",
      " [1.530849 1.578501]]\n",
      "\u001b[1mPredicted is:\u001b[0m [[1.99307793 1.48889436]\n",
      " [2.14820217 1.51331452]]\n",
      "\u001b[1mRMSE is:\u001b[0m [0.545335   0.07835377]\n",
      "0.545334997179726\n",
      "0.078353770279415\n"
     ]
    }
   ],
   "source": [
    "#Testing Material D\n",
    "X_train = data.iloc[list(range(0,6))+ list(range(8, len(data)))].iloc[:,3:].values\n",
    "Y_train = data.iloc[list(range(0,6)) +list(range(8, len(data)))].iloc[:,1:3].values\n",
    "X_test = data.iloc[6:8,3:].values\n",
    "Y_test = data.iloc[6:8,1:3].values\n",
    "\n",
    "scaler.fit(X_train)\n",
    "X_train = scaler.transform(X_train)\n",
    "X_test = scaler.transform(X_test)\n",
    "\n",
    "regressor.fit(X_train, Y_train) #training the algorithm\n",
    "\n",
    "Y_pred = regressor.predict(X_test)\n",
    "\n",
    "print(data.iloc[7,0])\n",
    "print(\"\\033[1mActual is:\\033[0m\", Y_test)\n",
    "print (\"\\033[1mPredicted is:\\033[0m\", Y_pred)\n",
    "\n",
    "def rmse(y_true, y_pred):\n",
    "    # calculate mean squared error for each output\n",
    "    mse = mean_squared_error(y_true, y_pred, multioutput='raw_values')\n",
    "    # calculate RMSE for each output\n",
    "    rmse = np.sqrt(mse)\n",
    "    return rmse\n",
    "\n",
    "RMSE=rmse(Y_test, Y_pred)\n",
    "print(\"\\033[1mRMSE is:\\033[0m\", RMSE)\n",
    "print(RMSE[0])\n",
    "print(RMSE[1])"
   ]
  },
  {
   "cell_type": "code",
   "execution_count": 19,
   "id": "d683b5b5",
   "metadata": {},
   "outputs": [
    {
     "name": "stdout",
     "output_type": "stream",
     "text": [
      "EF50\n",
      "\u001b[1mActual is:\u001b[0m [[2.815642 1.966654]\n",
      " [2.815642 1.966654]]\n",
      "\u001b[1mPredicted is:\u001b[0m [[2.44832611 1.79701771]\n",
      " [2.93698377 1.95303698]]\n",
      "\u001b[1mRMSE is:\u001b[0m [0.27353682 0.12033681]\n",
      "0.27353682310866845\n",
      "0.12033680676639509\n"
     ]
    }
   ],
   "source": [
    "#Testing Material E\n",
    "X_train = data.iloc[list(range(0,8))+ list(range(10, len(data)))].iloc[:,3:].values\n",
    "Y_train = data.iloc[list(range(0,8)) +list(range(10, len(data)))].iloc[:,1:3].values\n",
    "X_test = data.iloc[8:10,3:].values\n",
    "Y_test = data.iloc[8:10,1:3].values\n",
    "\n",
    "scaler.fit(X_train)\n",
    "X_train = scaler.transform(X_train)\n",
    "X_test = scaler.transform(X_test)\n",
    "\n",
    "regressor.fit(X_train, Y_train) #training the algorithm\n",
    "\n",
    "Y_pred = regressor.predict(X_test)\n",
    "\n",
    "print(data.iloc[9,0])\n",
    "print(\"\\033[1mActual is:\\033[0m\", Y_test)\n",
    "print (\"\\033[1mPredicted is:\\033[0m\", Y_pred)\n",
    "\n",
    "def rmse(y_true, y_pred):\n",
    "    # calculate mean squared error for each output\n",
    "    mse = mean_squared_error(y_true, y_pred, multioutput='raw_values')\n",
    "    # calculate RMSE for each output\n",
    "    rmse = np.sqrt(mse)\n",
    "    return rmse\n",
    "\n",
    "RMSE=rmse(Y_test, Y_pred)\n",
    "print(\"\\033[1mRMSE is:\\033[0m\", RMSE)\n",
    "print(RMSE[0])\n",
    "print(RMSE[1])"
   ]
  },
  {
   "cell_type": "code",
   "execution_count": 20,
   "id": "e1ce05a2",
   "metadata": {},
   "outputs": [
    {
     "name": "stdout",
     "output_type": "stream",
     "text": [
      "F\n",
      "\u001b[1mActual is:\u001b[0m [[0.680168 1.381599]\n",
      " [0.680168 1.381599]]\n",
      "\u001b[1mPredicted is:\u001b[0m [[0.43983786 1.63561407]\n",
      " [0.76446036 1.7619516 ]]\n",
      "\u001b[1mRMSE is:\u001b[0m [0.18008856 0.32341286]\n",
      "0.18008855942159985\n",
      "0.32341286046388446\n"
     ]
    }
   ],
   "source": [
    "#Testing Material F\n",
    "X_train = data.iloc[list(range(0,10))+ list(range(12, len(data)))].iloc[:,3:].values\n",
    "Y_train = data.iloc[list(range(0,10)) +list(range(12, len(data)))].iloc[:,1:3].values\n",
    "X_test = data.iloc[10:12,3:].values\n",
    "Y_test = data.iloc[10:12,1:3].values\n",
    "\n",
    "scaler.fit(X_train)\n",
    "X_train = scaler.transform(X_train)\n",
    "X_test = scaler.transform(X_test)\n",
    " \n",
    "regressor.fit(X_train, Y_train) #training the algorithm\n",
    "\n",
    "Y_pred = regressor.predict(X_test)\n",
    "print(data.iloc[11,0])\n",
    "print(\"\\033[1mActual is:\\033[0m\", Y_test)\n",
    "print (\"\\033[1mPredicted is:\\033[0m\", Y_pred)\n",
    "\n",
    "def rmse(y_true, y_pred):\n",
    "    # calculate mean squared error for each output\n",
    "    mse = mean_squared_error(y_true, y_pred, multioutput='raw_values')\n",
    "    # calculate RMSE for each output\n",
    "    rmse = np.sqrt(mse)\n",
    "    return rmse\n",
    "\n",
    "RMSE=rmse(Y_test, Y_pred)\n",
    "print(\"\\033[1mRMSE is:\\033[0m\", RMSE)\n",
    "print(RMSE[0])\n",
    "print(RMSE[1])"
   ]
  }
 ],
 "metadata": {
  "kernelspec": {
   "display_name": "Python 3 (ipykernel)",
   "language": "python",
   "name": "python3"
  },
  "language_info": {
   "codemirror_mode": {
    "name": "ipython",
    "version": 3
   },
   "file_extension": ".py",
   "mimetype": "text/x-python",
   "name": "python",
   "nbconvert_exporter": "python",
   "pygments_lexer": "ipython3",
   "version": "3.10.8"
  }
 },
 "nbformat": 4,
 "nbformat_minor": 5
}
