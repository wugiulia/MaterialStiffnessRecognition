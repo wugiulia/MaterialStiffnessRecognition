{
 "cells": [
  {
   "cell_type": "code",
   "execution_count": 7,
   "id": "914605ea",
   "metadata": {},
   "outputs": [],
   "source": [
    "import pandas as pd\n",
    "import numpy as np\n",
    "import math\n",
    "from sklearn.metrics import mean_absolute_error, mean_squared_error\n",
    "from scipy.optimize import curve_fit"
   ]
  },
  {
   "cell_type": "code",
   "execution_count": 8,
   "id": "cbe91d52",
   "metadata": {},
   "outputs": [],
   "source": [
    "#import experimental data \n",
    "data = pd.read_table('the data/0035/f.txt')\n",
    "df = pd.DataFrame(data) "
   ]
  },
  {
   "cell_type": "code",
   "execution_count": 9,
   "id": "ebf4fc54",
   "metadata": {},
   "outputs": [],
   "source": [
    "#Remove unnecessary data from the experimental file\n",
    "df = df.drop(df.columns[0], axis=1)\n",
    "    \n",
    "#Force conversion to Newton\n",
    "df.iloc[:,1] = df.iloc[:,1].apply(lambda x: x*4.44822)\n",
    "\n",
    "#Adding titles to each column\n",
    "df = df.set_axis([\"V(V)\", \"F(N)\", \"d(mm)\"], axis=1)\n",
    "    \n",
    "#Setting force lower threshold \n",
    "df1 = df[(df['F(N)'].values > 0.1)]\n",
    "#Setting force upper threshold\n",
    "df1 = df1[(df1['F(N)'].values < 20)]\n",
    "\n",
    "#Adding Stress column and calculating values as: S = F(N)/(Surface area od sample)\n",
    "df1[\"S(MPa)\"]= \"\"\n",
    "df1[\"S(MPa)\"]= df1[\"F(N)\"]/314.159\n",
    "    \n",
    "#Adding strain column and calculating values as: s = d(mm)/(Initial height of sample)\n",
    "df1[\"s\"]= \"\"\n",
    "df1[\"s\"]= (df1['d(mm)']- df1['d(mm)'].iloc[0])/5\n",
    "        \n",
    "#dropping strain values = 0\n",
    "df1 = df1[df1[\"s\"]!=0] "
   ]
  },
  {
   "cell_type": "code",
   "execution_count": 14,
   "id": "2e58cc3a",
   "metadata": {},
   "outputs": [
    {
     "data": {
      "text/plain": [
       "0.9592487494785122"
      ]
     },
     "metadata": {},
     "output_type": "display_data"
    },
    {
     "data": {
      "text/plain": [
       "1.6826467414939366"
      ]
     },
     "metadata": {},
     "output_type": "display_data"
    },
    {
     "name": "stdout",
     "output_type": "stream",
     "text": [
      "0.0015194182660468493\n",
      "0.993991936220761\n"
     ]
    }
   ],
   "source": [
    "#defining the Power Law model \n",
    "def model(s,c,m):\n",
    "    return c*(s**(m))\n",
    "\n",
    "#perform curve fitting on stress-strain\n",
    "s = df1['s'].values\n",
    "S = df1['S(MPa)'].values\n",
    "popt, pcov = curve_fit(model, s, S)\n",
    "c,m = popt\n",
    "pred = model(s,c,m)\n",
    "\n",
    "#Displaying parameters from the fitted curve\n",
    "display(c,m)\n",
    "\n",
    "#Calculating RMSE\n",
    "MSE = mean_squared_error(S, pred)\n",
    "RMSE= math.sqrt(MSE)\n",
    "#Calculating R-squared\n",
    "corr_matrix = np.corrcoef(S, pred)\n",
    "corr = corr_matrix[0,1]\n",
    "R_sq = corr**2\n",
    "\n",
    "print(RMSE)\n",
    "print(R_sq)"
   ]
  },
  {
   "cell_type": "code",
   "execution_count": null,
   "id": "e88530e1",
   "metadata": {},
   "outputs": [],
   "source": [
    "#Converting stress-strain to negative values to represent compression\n",
    "df1['s'] = df1['s'].div(-1)\n",
    "df1['S(MPa)'] = df1['S(Mpa)'].div(-1)"
   ]
  },
  {
   "cell_type": "code",
   "execution_count": null,
   "id": "5552b95f",
   "metadata": {},
   "outputs": [],
   "source": [
    "#defining the Mooney-Rivlin model\n",
    "def model(s,c,m):\n",
    "    return 2*((1+s)-(1+s)**(-2))*(c+(m*(1+s)**(-1)))\n",
    "\n",
    "#perform curve fitting on stress-strain\n",
    "s = df1['s'].values\n",
    "S = df1['S(N/mm^2)'].values\n",
    "popt, pcov = curve_fit(model, s, S)\n",
    "c,m = popt\n",
    "pred = model(s,c,m)\n",
    "\n",
    "#Displaying parameters from the fitted curve\n",
    "display(p,q)\n",
    "\n",
    "#Calculating RMSE\n",
    "MSE = mean_squared_error(S, pred)\n",
    "RMSE= math.sqrt(MSE)\n",
    "#Calculating R-squared\n",
    "corr_matrix = np.corrcoef(S, pred)\n",
    "corr = corr_matrix[0,1]\n",
    "R_sq = corr**2\n",
    "\n",
    "print(RMSE)\n",
    "print(R_sq)"
   ]
  }
 ],
 "metadata": {
  "kernelspec": {
   "display_name": "Python 3 (ipykernel)",
   "language": "python",
   "name": "python3"
  },
  "language_info": {
   "codemirror_mode": {
    "name": "ipython",
    "version": 3
   },
   "file_extension": ".py",
   "mimetype": "text/x-python",
   "name": "python",
   "nbconvert_exporter": "python",
   "pygments_lexer": "ipython3",
   "version": "3.10.8"
  }
 },
 "nbformat": 4,
 "nbformat_minor": 5
}
