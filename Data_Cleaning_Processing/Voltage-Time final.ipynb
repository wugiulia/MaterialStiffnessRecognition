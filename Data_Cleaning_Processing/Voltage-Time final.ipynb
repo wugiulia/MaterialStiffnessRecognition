{
 "cells": [
  {
   "cell_type": "code",
   "execution_count": 25,
   "id": "4a588504",
   "metadata": {},
   "outputs": [],
   "source": [
    "import pandas as pd\n",
    "import numpy as np\n",
    "import matplotlib.pyplot as plt\n",
    "from scipy.optimize import curve_fit\n",
    "from sklearn.metrics import mean_absolute_error, mean_squared_error\n",
    "import math "
   ]
  },
  {
   "cell_type": "code",
   "execution_count": 26,
   "id": "99d21d66",
   "metadata": {},
   "outputs": [],
   "source": [
    "data = pd.read_table('')\n",
    "df = pd.DataFrame(data) "
   ]
  },
  {
   "cell_type": "code",
   "execution_count": 27,
   "id": "f5a89d61",
   "metadata": {},
   "outputs": [],
   "source": [
    "#Remove unnecessary data from the experimental file\n",
    "df = df.drop(df.columns[0], axis =1)\n",
    "\n",
    "#Adding titles to each column\n",
    "df = df.set_axis([\"V(V)\", \"F(N)\", \"d(mm)\"], axis=1)\n",
    "\n",
    "#Voltage lower threshold\n",
    "df1 = df[(df[\"V(V)\"].values > 0.56)]\n",
    "#Voltage upper threshold\n",
    "df1 = df1[df1[\"V(V)\"].values < 4.5]\n",
    "    \n",
    "#add Time column and convert to seconds\n",
    "df1.insert(0, 't(s)', range(0, 0 + len(df1)))\n",
    "df1['t(s)'] = df1['t(s)'].div(54)"
   ]
  },
  {
   "cell_type": "code",
   "execution_count": 28,
   "id": "45efd527",
   "metadata": {},
   "outputs": [
    {
     "data": {
      "text/plain": [
       "0.11888295119610524"
      ]
     },
     "metadata": {},
     "output_type": "display_data"
    },
    {
     "data": {
      "text/plain": [
       "1.4516920520751602"
      ]
     },
     "metadata": {},
     "output_type": "display_data"
    },
    {
     "name": "stdout",
     "output_type": "stream",
     "text": [
      "0.08015900351107678\n",
      "0.9952790128588475\n"
     ]
    }
   ],
   "source": [
    "#defining the Power Law model \n",
    "def model(s,p,q):\n",
    "    return p*(s**q)+0.56\n",
    "\n",
    "#Perform curve fitting on Voltage-time\n",
    "s = df1['t(s)'].values\n",
    "S = df1['V(V)'].values\n",
    "popt, pcov = curve_fit(model, s, S)\n",
    "p,q = popt\n",
    "pred = model(s,p,q)\n",
    "\n",
    "#Displaying parameters from the fitted curve\n",
    "display(p,q)\n",
    "\n",
    "#Calculating RMSE\n",
    "MSE = mean_squared_error(S, pred)\n",
    "RMSE= math.sqrt(MSE)\n",
    "#Calculating R-squared\n",
    "corr_matrix = np.corrcoef(S, pred)\n",
    "corr = corr_matrix[0,1]\n",
    "R_sq = corr**2\n",
    "\n",
    "print(RMSE)\n",
    "print(R_sq)"
   ]
  },
  {
   "cell_type": "code",
   "execution_count": 32,
   "id": "a2044a5d",
   "metadata": {},
   "outputs": [
    {
     "data": {
      "text/plain": [
       "0.18651433640162018"
      ]
     },
     "metadata": {},
     "output_type": "display_data"
    },
    {
     "data": {
      "text/plain": [
       "-0.4336439842742675"
      ]
     },
     "metadata": {},
     "output_type": "display_data"
    },
    {
     "name": "stdout",
     "output_type": "stream",
     "text": [
      "0.14760386422446767\n",
      "0.9840898013149549\n"
     ]
    }
   ],
   "source": [
    "#defining the Mooney-Rivlin model \n",
    "def model(s,p,q):\n",
    "    return 2*((1+s)-(1+s)**(-2))*(p+(q*(1+s)**(-1)))+0.56\n",
    "\n",
    "#Perform curve fitting on Voltage-time\n",
    "s = df1['t(s)'].values\n",
    "S = df1['V(V)'].values\n",
    "popt, pcov = curve_fit(model, s, S)\n",
    "p,q = popt\n",
    "pred = model(s,p,q)\n",
    "\n",
    "#Displaying parameters from the fitted curve\n",
    "display(p,q)\n",
    "\n",
    "#Calculating RMSE\n",
    "MSE = mean_squared_error(S, pred)\n",
    "RMSE= math.sqrt(MSE)\n",
    "#Calculating R-squared\n",
    "corr_matrix = np.corrcoef(S, pred)\n",
    "corr = corr_matrix[0,1]\n",
    "R_sq = corr**2\n",
    "\n",
    "print(RMSE)\n",
    "print(R_sq)"
   ]
  },
  {
   "cell_type": "code",
   "execution_count": null,
   "id": "022a99e6",
   "metadata": {},
   "outputs": [],
   "source": []
  },
  {
   "cell_type": "code",
   "execution_count": null,
   "id": "a57583c7",
   "metadata": {},
   "outputs": [],
   "source": []
  }
 ],
 "metadata": {
  "kernelspec": {
   "display_name": "Python 3 (ipykernel)",
   "language": "python",
   "name": "python3"
  },
  "language_info": {
   "codemirror_mode": {
    "name": "ipython",
    "version": 3
   },
   "file_extension": ".py",
   "mimetype": "text/x-python",
   "name": "python",
   "nbconvert_exporter": "python",
   "pygments_lexer": "ipython3",
   "version": "3.10.8"
  }
 },
 "nbformat": 4,
 "nbformat_minor": 5
}
